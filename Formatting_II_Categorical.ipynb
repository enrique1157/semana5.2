{
 "cells": [
  {
   "cell_type": "markdown",
   "id": "9f156965",
   "metadata": {},
   "source": [
    "<center><img src=\"https://i.imgur.com/zRrFdsf.png\" width=\"700\"></center>\n",
    "\n",
    "# Data Formatting (categorical)\n",
    "\n",
    "\n",
    "In this formatting tutorial we will see the categorical case.\n",
    "\n",
    "\n",
    "Let's get [some data](https://en.wikipedia.org/wiki/List_of_freedom_indices):"
   ]
  },
  {
   "cell_type": "code",
   "execution_count": null,
   "id": "1923bc8b",
   "metadata": {},
   "outputs": [],
   "source": [
    "%reset\n",
    "import pandas as pd\n",
    "\n",
    "link='https://en.wikipedia.org/wiki/List_of_freedom_indices'\n",
    "freeDFs=pd.read_html(link,flavor='bs4',match='w',attrs={'class':\"wikitable\"})\n",
    "\n",
    "# how many tables?\n",
    "len(freeDFs)"
   ]
  },
  {
   "cell_type": "code",
   "execution_count": null,
   "id": "ea63ec2f",
   "metadata": {},
   "outputs": [],
   "source": [
    "#is this one?\n",
    "freeDFs[0]"
   ]
  },
  {
   "cell_type": "markdown",
   "id": "7b58c223",
   "metadata": {},
   "source": [
    "Then, you want the second table:"
   ]
  },
  {
   "cell_type": "code",
   "execution_count": null,
   "id": "d9b41db7",
   "metadata": {
    "scrolled": true
   },
   "outputs": [],
   "source": [
    "allFree=freeDFs[1]\n",
    "allFree.head()"
   ]
  },
  {
   "cell_type": "markdown",
   "id": "6442b690",
   "metadata": {},
   "source": [
    "Cleaning column names:"
   ]
  },
  {
   "cell_type": "code",
   "execution_count": null,
   "id": "0f614a66",
   "metadata": {},
   "outputs": [],
   "source": [
    "allFree.columns"
   ]
  },
  {
   "cell_type": "markdown",
   "id": "a6f48526",
   "metadata": {},
   "source": [
    "Is this a good alternative?"
   ]
  },
  {
   "cell_type": "code",
   "execution_count": null,
   "id": "8baaa5dc",
   "metadata": {},
   "outputs": [],
   "source": [
    "allFree.columns.str.replace(r\"\\W|\\d\",\"\",regex=True)"
   ]
  },
  {
   "cell_type": "markdown",
   "id": "b70b3b28",
   "metadata": {},
   "source": [
    "You might prefer this:"
   ]
  },
  {
   "cell_type": "code",
   "execution_count": null,
   "id": "9db05a23",
   "metadata": {},
   "outputs": [],
   "source": [
    "NewNames=['Country', 'Freedom', 'FreedomScore', 'EconomicFreedom',\n",
    "       'EconomicFreedomScore', 'PressFreedom', 'PressFreedomScore', 'Democracy', 'DemocracyScore']\n",
    "allFree.columns=NewNames"
   ]
  },
  {
   "cell_type": "markdown",
   "id": "b2ff581b",
   "metadata": {},
   "source": [
    "Let's check data types:"
   ]
  },
  {
   "cell_type": "code",
   "execution_count": null,
   "id": "554665f7",
   "metadata": {},
   "outputs": [],
   "source": [
    "allFree.info()"
   ]
  },
  {
   "cell_type": "markdown",
   "id": "f35512e0",
   "metadata": {},
   "source": [
    "Let's clean all the leading/trailing space in every cell:"
   ]
  },
  {
   "cell_type": "code",
   "execution_count": null,
   "id": "51ba6646",
   "metadata": {},
   "outputs": [],
   "source": [
    "# this code breaks if applied to numeric columns\n",
    "allFree=allFree.apply(lambda x: x.str.strip())"
   ]
  },
  {
   "cell_type": "markdown",
   "id": "a7ade228",
   "metadata": {},
   "source": [
    "Do we have unique country names?"
   ]
  },
  {
   "cell_type": "code",
   "execution_count": null,
   "id": "62f8de26",
   "metadata": {},
   "outputs": [],
   "source": [
    "len(allFree.Country)==len(pd.unique(allFree.Country))"
   ]
  },
  {
   "cell_type": "code",
   "execution_count": null,
   "id": "0c93d6a8",
   "metadata": {},
   "outputs": [],
   "source": [
    "allFree.head()"
   ]
  },
  {
   "cell_type": "markdown",
   "id": "0a7c97b2",
   "metadata": {},
   "source": [
    "You have categorical and numerical columns. Would you prefer this look:"
   ]
  },
  {
   "cell_type": "code",
   "execution_count": null,
   "id": "d1698ede",
   "metadata": {},
   "outputs": [],
   "source": [
    "#non scores\n",
    "\n",
    "allFree.columns[~allFree.columns.str.contains(\"score\",case=False)]"
   ]
  },
  {
   "cell_type": "code",
   "execution_count": null,
   "id": "a88ffb71",
   "metadata": {},
   "outputs": [],
   "source": [
    "# non scores as index\n",
    "allFree.set_index(allFree.columns[~allFree.columns.str.contains(\"score\",case=False)].to_list())"
   ]
  },
  {
   "cell_type": "code",
   "execution_count": null,
   "id": "27f24c63",
   "metadata": {},
   "outputs": [],
   "source": [
    "# reset index\n",
    "allFree.set_index(allFree.columns[~allFree.columns.str.contains(\"score\",case=False)].to_list()).reset_index(drop=False)"
   ]
  },
  {
   "cell_type": "code",
   "execution_count": null,
   "id": "0e1efcf8",
   "metadata": {},
   "outputs": [],
   "source": [
    "#Then\n",
    "allFree=allFree.set_index(allFree.columns[~allFree.columns.str.contains(\"score\",case=False)].to_list()).reset_index(drop=False)"
   ]
  },
  {
   "cell_type": "code",
   "execution_count": null,
   "id": "77cabb33",
   "metadata": {},
   "outputs": [],
   "source": [
    "allFree.head()"
   ]
  },
  {
   "cell_type": "markdown",
   "id": "e720cf7c",
   "metadata": {},
   "source": [
    "Let's pay attention to the categorical columns:"
   ]
  },
  {
   "cell_type": "code",
   "execution_count": null,
   "id": "e553e725",
   "metadata": {},
   "outputs": [],
   "source": [
    "[list(allFree[c].sort_values().unique()) for c in allFree.columns[1:5]]"
   ]
  },
  {
   "cell_type": "markdown",
   "id": "83d8759b",
   "metadata": {},
   "source": [
    "You wanted to check for mistakes like ['free', 'not free', 'partly free', 'Free']. The cells are clean."
   ]
  },
  {
   "cell_type": "markdown",
   "id": "432a81b5",
   "metadata": {},
   "source": [
    "Now, let's turn the values into **ordinal** categories. Remember that the worst, best and middle values should be comparable:"
   ]
  },
  {
   "cell_type": "code",
   "execution_count": null,
   "id": "0ea93452",
   "metadata": {},
   "outputs": [],
   "source": [
    "mapper1 = {'not free': 1,'partly free': 3, 'free':5 }\n",
    "allFree.Freedom.replace(mapper1,inplace=True)\n",
    "\n",
    "mapper2 = {'repressed':1, 'mostly unfree':2,'moderately free':3, 'mostly free':4, 'free':5}\n",
    "allFree.EconomicFreedom.replace(mapper2,inplace=True)\n",
    "\n",
    "\n",
    "mapper3 = {'very serious':1,'difficult':2, 'problematic':3,\n",
    "           'satisfactory':4,'good':5}\n",
    "allFree.PressFreedom.replace(mapper3,inplace=True)\n",
    "\n",
    "mapper4 = {'authoritarian regime':1, 'hybrid regime':2,'flawed democracy':4,'full democracy':5}\n",
    "allFree.Democracy.replace(mapper4,inplace=True)\n"
   ]
  },
  {
   "cell_type": "code",
   "execution_count": null,
   "id": "742de9d3",
   "metadata": {},
   "outputs": [],
   "source": [
    "# what we have so far\n",
    "allFree"
   ]
  },
  {
   "cell_type": "markdown",
   "id": "0dc96aaa",
   "metadata": {},
   "source": [
    "Let's see the data types:"
   ]
  },
  {
   "cell_type": "code",
   "execution_count": null,
   "id": "720b58c4",
   "metadata": {},
   "outputs": [],
   "source": [
    "#check types:\n",
    "allFree.info()"
   ]
  },
  {
   "cell_type": "markdown",
   "id": "ef76aae8-83dc-492c-824c-225f95b2b0eb",
   "metadata": {},
   "source": [
    "We could turn those floats into integers:"
   ]
  },
  {
   "cell_type": "code",
   "execution_count": null,
   "id": "0a14a21e",
   "metadata": {},
   "outputs": [],
   "source": [
    "# what about\n",
    "allFree[allFree.columns[1:5]]=allFree.iloc[:,1:5].apply(lambda x: x.astype('Int64'))"
   ]
  },
  {
   "cell_type": "code",
   "execution_count": null,
   "id": "4828ffc8",
   "metadata": {},
   "outputs": [],
   "source": [
    "#then\n",
    "allFree.info()"
   ]
  },
  {
   "cell_type": "markdown",
   "id": "89342f19",
   "metadata": {},
   "source": [
    "However, these are NOT yet **ordinal**. Let's see how the process is:"
   ]
  },
  {
   "cell_type": "code",
   "execution_count": null,
   "id": "e21f045b",
   "metadata": {},
   "outputs": [],
   "source": [
    "from pandas.api.types import CategoricalDtype\n",
    "\n",
    "order = CategoricalDtype(categories=[1,2,3,4,5], ordered=True)\n",
    "allFree.iloc[:,1:5].apply(lambda x:x.astype(order)).info()"
   ]
  },
  {
   "cell_type": "markdown",
   "id": "a6510baf-9879-4b92-b70c-0c382f191ba6",
   "metadata": {},
   "source": [
    "That is what you will get. Let me put those values in new columns:\n",
    "\n",
    "1. Create new column names"
   ]
  },
  {
   "cell_type": "code",
   "execution_count": null,
   "id": "71af28f8",
   "metadata": {},
   "outputs": [],
   "source": [
    "# create some new names:\n",
    "newNames=allFree.columns[1:5]+'_ord'\n",
    "#see\n",
    "newNames"
   ]
  },
  {
   "cell_type": "markdown",
   "id": "043de35a-1654-4edc-a2fa-3cc0b195a2a4",
   "metadata": {},
   "source": [
    "2. Create new data columns (using the new names):"
   ]
  },
  {
   "cell_type": "code",
   "execution_count": null,
   "id": "80aff81e",
   "metadata": {},
   "outputs": [],
   "source": [
    "allFree[newNames]=allFree.iloc[:,1:5].apply(lambda x:x.astype(order))"
   ]
  },
  {
   "cell_type": "markdown",
   "id": "dc7fbb8f-48d8-4d0a-a399-abf4e965ab02",
   "metadata": {},
   "source": [
    "You have this:"
   ]
  },
  {
   "cell_type": "code",
   "execution_count": null,
   "id": "82046fb5",
   "metadata": {},
   "outputs": [],
   "source": [
    "allFree.info()"
   ]
  },
  {
   "cell_type": "markdown",
   "id": "decb3bba-65dc-4725-9679-790140461673",
   "metadata": {},
   "source": [
    "Notice the ordinal levels:"
   ]
  },
  {
   "cell_type": "code",
   "execution_count": null,
   "id": "df5a5224",
   "metadata": {},
   "outputs": [],
   "source": [
    "allFree.EconomicFreedom_ord"
   ]
  },
  {
   "cell_type": "markdown",
   "id": "7bddfe25",
   "metadata": {},
   "source": [
    "You may want to rename them:"
   ]
  },
  {
   "cell_type": "code",
   "execution_count": null,
   "id": "98024763",
   "metadata": {},
   "outputs": [],
   "source": [
    "# This is how it looks:\n",
    "\n",
    "\n",
    "ordCats={1:'veryLow',2:'low',3:'medium',4:'good',5:'veryGood'}\n",
    "\n",
    "turnToOrdinal= lambda x:x.cat.rename_categories(ordCats)\n",
    "\n",
    "allFree.iloc[:,9:].apply(turnToOrdinal)"
   ]
  },
  {
   "cell_type": "code",
   "execution_count": null,
   "id": "f916d049",
   "metadata": {},
   "outputs": [],
   "source": [
    "# making the changes:\n",
    "\n",
    "allFree[newNames]=allFree.iloc[:,9:].apply(turnToOrdinal)\n",
    "\n",
    "# see\n",
    "allFree.head(10)"
   ]
  },
  {
   "cell_type": "markdown",
   "id": "a42df45e",
   "metadata": {},
   "source": [
    "Let's keep this last result, but this time let me show you the use of **pickle** format:"
   ]
  },
  {
   "cell_type": "code",
   "execution_count": null,
   "id": "161406d7",
   "metadata": {},
   "outputs": [],
   "source": [
    "#saving\n",
    "\n",
    "import os \n",
    "\n",
    "allFree.to_csv(os.path.join(\"data\",\"allFree.csv\"),index=False ) # as usual\n",
    "allFree.to_pickle(os.path.join(\"data\",\"allFree.pkl\") )"
   ]
  },
  {
   "cell_type": "code",
   "execution_count": null,
   "id": "43d07085",
   "metadata": {},
   "outputs": [],
   "source": [
    "#reading\n",
    "\n",
    "dfPickle=pd.read_pickle(os.path.join(\"data\",\"allFree.pkl\") )  \n",
    "dfCSV=pd.read_csv(os.path.join(\"data\",\"allFree.csv\") )  "
   ]
  },
  {
   "cell_type": "markdown",
   "id": "cce1b3a2",
   "metadata": {},
   "source": [
    "Now, notice the difference when you have categorical data:"
   ]
  },
  {
   "cell_type": "code",
   "execution_count": null,
   "id": "6cefa4b8",
   "metadata": {},
   "outputs": [],
   "source": [
    "dfPickle.info()"
   ]
  },
  {
   "cell_type": "code",
   "execution_count": null,
   "id": "1d27a302",
   "metadata": {},
   "outputs": [],
   "source": [
    "dfCSV.info()"
   ]
  },
  {
   "cell_type": "code",
   "execution_count": null,
   "id": "3def84ae",
   "metadata": {},
   "outputs": [],
   "source": [
    "# the file kept the data type\n",
    "dfPickle.Democracy_ord"
   ]
  },
  {
   "cell_type": "code",
   "execution_count": null,
   "id": "182bd92b",
   "metadata": {},
   "outputs": [],
   "source": [
    "# the file did not keep the data type\n",
    "dfCSV.Democracy_ord"
   ]
  },
  {
   "cell_type": "code",
   "execution_count": null,
   "id": "08293627",
   "metadata": {},
   "outputs": [],
   "source": []
  }
 ],
 "metadata": {
  "kernelspec": {
   "display_name": "Python 3 (ipykernel)",
   "language": "python",
   "name": "python3"
  },
  "language_info": {
   "codemirror_mode": {
    "name": "ipython",
    "version": 3
   },
   "file_extension": ".py",
   "mimetype": "text/x-python",
   "name": "python",
   "nbconvert_exporter": "python",
   "pygments_lexer": "ipython3",
   "version": "3.11.5"
  }
 },
 "nbformat": 4,
 "nbformat_minor": 5
}
